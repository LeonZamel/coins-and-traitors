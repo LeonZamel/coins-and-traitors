{
 "cells": [
  {
   "cell_type": "code",
   "execution_count": null,
   "metadata": {
    "jupyter": {
     "outputs_hidden": false
    }
   },
   "outputs": [],
   "source": [
    "import pandas as pd\n",
    "import matplotlib.pyplot as plt\n",
    "%matplotlib inline"
   ]
  },
  {
   "cell_type": "code",
   "execution_count": null,
   "metadata": {
    "jupyter": {
     "outputs_hidden": false
    }
   },
   "outputs": [],
   "source": [
    "df = pd.read_csv('data/3-agents-no-self-votes-sticky-100/1/progress.csv')\n",
    "ROLLING_FRAME = 5"
   ]
  },
  {
   "cell_type": "code",
   "execution_count": null,
   "metadata": {
    "jupyter": {
     "outputs_hidden": false
    },
    "scrolled": true
   },
   "outputs": [],
   "source": [
    "# Data columns to analyze\n",
    "df.columns"
   ]
  },
  {
   "cell_type": "code",
   "execution_count": null,
   "metadata": {
    "jupyter": {
     "outputs_hidden": false
    }
   },
   "outputs": [],
   "source": [
    "plt.plot(df['episode_len_mean'].rolling(ROLLING_FRAME).mean())"
   ]
  },
  {
   "cell_type": "code",
   "execution_count": null,
   "metadata": {
    "jupyter": {
     "outputs_hidden": false
    }
   },
   "outputs": [],
   "source": [
    "plt.plot(df['episode_reward_mean'].rolling(ROLLING_FRAME).mean())"
   ]
  },
  {
   "cell_type": "code",
   "execution_count": null,
   "metadata": {
    "jupyter": {
     "outputs_hidden": false
    }
   },
   "outputs": [],
   "source": [
    "df['policy_reward_mean/innocent'].rolling(ROLLING_FRAME).mean().plot()"
   ]
  },
  {
   "cell_type": "code",
   "execution_count": null,
   "metadata": {
    "jupyter": {
     "outputs_hidden": false
    }
   },
   "outputs": [],
   "source": [
    "df['policy_reward_mean/traitor'].rolling(ROLLING_FRAME).mean().plot()"
   ]
  },
  {
   "cell_type": "code",
   "execution_count": null,
   "metadata": {
    "jupyter": {
     "outputs_hidden": false
    }
   },
   "outputs": [],
   "source": [
    "df['custom_metrics/coins_collected_mean'].rolling(ROLLING_FRAME).mean().plot()"
   ]
  },
  {
   "cell_type": "code",
   "execution_count": null,
   "metadata": {
    "jupyter": {
     "outputs_hidden": false
    }
   },
   "outputs": [],
   "source": [
    "df['custom_metrics/coins_destroyed_mean'].rolling(ROLLING_FRAME).mean().plot()"
   ]
  },
  {
   "cell_type": "code",
   "execution_count": null,
   "metadata": {
    "jupyter": {
     "outputs_hidden": false
    }
   },
   "outputs": [],
   "source": [
    "df['custom_metrics/removed_innocents_mean'].rolling(ROLLING_FRAME).mean().plot()"
   ]
  },
  {
   "cell_type": "code",
   "execution_count": null,
   "metadata": {
    "jupyter": {
     "outputs_hidden": false
    }
   },
   "outputs": [],
   "source": [
    "df['custom_metrics/removed_traitors_mean'].rolling(ROLLING_FRAME).mean().plot()"
   ]
  },
  {
   "cell_type": "code",
   "execution_count": null,
   "metadata": {},
   "outputs": [],
   "source": [
    "diff = df['custom_metrics/removed_innocents_mean'] / (df['custom_metrics/removed_innocents_mean'] + df['custom_metrics/removed_traitors_mean'] + 0.0001)\n",
    "df['custom_metrics/fraction_removed_is_innocent'] = diff"
   ]
  },
  {
   "cell_type": "code",
   "execution_count": null,
   "metadata": {
    "jupyter": {
     "outputs_hidden": true
    }
   },
   "outputs": [],
   "source": [
    "vis_map = [\n",
    "    [('episode_len_mean', 'Mean Episode Length')], \n",
    "    [('custom_metrics/coins_collected_mean', ' Mean Coins Collected'), ('custom_metrics/coins_destroyed_mean', 'Mean Coins Destroyed')],\n",
    "    [('custom_metrics/removed_innocents_mean', 'Mean Innocents Removed'), ('custom_metrics/removed_traitors_mean', 'Mean Traitors Removed')],\n",
    "    [('custom_metrics/fraction_removed_is_innocent', 'Removed Agents Innocent Fraction')],\n",
    "]"
   ]
  },
  {
   "cell_type": "code",
   "execution_count": null,
   "metadata": {},
   "outputs": [],
   "source": [
    "fig, axs = plt.subplots(len(vis_map), 1, figsize=(8, len(vis_map) * 5))\n",
    "\n",
    "for i, entry in enumerate(vis_map):\n",
    "    for col, name in entry:\n",
    "        axs[i].plot(df[col].rolling(ROLLING_FRAME).mean(), label=name)\n",
    "\n",
    "    axs[i].set_xlabel(\"Episodes\")\n",
    "    axs[i].legend(loc=\"upper right\")\n",
    "    axs[i].grid(True)\n",
    "\n",
    "plt.show()"
   ]
  }
 ],
 "metadata": {
  "kernelspec": {
   "display_name": "Python 3",
   "language": "python",
   "name": "python3"
  },
  "language_info": {
   "codemirror_mode": {
    "name": "ipython",
    "version": 3
   },
   "file_extension": ".py",
   "mimetype": "text/x-python",
   "name": "python",
   "nbconvert_exporter": "python",
   "pygments_lexer": "ipython3",
   "version": "3.8.5-final"
  },
  "varInspector": {
   "cols": {
    "lenName": 16,
    "lenType": 16,
    "lenVar": 40
   },
   "kernels_config": {
    "python": {
     "delete_cmd_postfix": "",
     "delete_cmd_prefix": "del ",
     "library": "var_list.py",
     "varRefreshCmd": "print(var_dic_list())"
    },
    "r": {
     "delete_cmd_postfix": ") ",
     "delete_cmd_prefix": "rm(",
     "library": "var_list.r",
     "varRefreshCmd": "cat(var_dic_list()) "
    }
   },
   "types_to_exclude": [
    "module",
    "function",
    "builtin_function_or_method",
    "instance",
    "_Feature"
   ],
   "window_display": false
  }
 },
 "nbformat": 4,
 "nbformat_minor": 4
}